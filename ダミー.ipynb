{
  "cells": [
    {
      "cell_type": "raw",
      "metadata": {},
      "source": [
        "---\n",
        "title: \"Untitled\"\n",
        "format: revealjs\n",
        "---"
      ],
      "id": "a965ca3c"
    },
    {
      "cell_type": "markdown",
      "metadata": {},
      "source": [
        "## はじめに\n",
        "今回の講習は実行環境によってエラーが起きます  \n",
        "エラーが出た場合は遠慮なく講習を止めてください\n",
        "\n",
        "\n",
        "実行環境\n",
        "macOS 12.6.6\n",
        "\n",
        "## なぜインストールについて学ぶのか\n",
        "\n",
        "開発を始める前には環境構築が重要です。\n",
        "\n",
        "しかし環境構築にはさまざまな困難があり、開発を始めるにも一苦労します。\n",
        "\n",
        "今回のインストールについて知識をつけることで、環境構築の手間を軽減できます。\n",
        "\n",
        "## 事前知識\n",
        "\n",
        "## パソコンは01データしか理解できない\n",
        "\n",
        "パソコンへの指示は01のデータに翻訳されて行われている。\n",
        "\n",
        "![](image/intaractive_binary.png){width=\"800\"}\n",
        "\n",
        "## プログラムも翻訳され実行されている\n",
        "\n",
        "このプログラムを翻訳する操作を**コンパイル**と呼ぶ\n",
        "\n",
        "C++のソースコード:\n",
        "``` {c++ }\n",
        "#include <iostream>\n",
        "\n",
        "int main() {\n",
        "    std::cout << \"hello！\" << std::endl;\n",
        "    return 0;\n",
        "}\n",
        "```\n",
        "\n",
        "コードの翻訳:\n",
        "\n",
        " ```{sh}\n",
        " g++ hello.cpp -o hello\n",
        " ```"
      ],
      "id": "38d74a1d"
    }
  ],
  "metadata": {
    "kernelspec": {
      "display_name": "Python 3",
      "language": "python",
      "name": "python3"
    }
  },
  "nbformat": 4,
  "nbformat_minor": 5
}